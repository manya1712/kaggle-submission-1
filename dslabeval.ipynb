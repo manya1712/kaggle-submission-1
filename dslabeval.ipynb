{
 "cells": [
  {
   "cell_type": "code",
   "execution_count": 1,
   "id": "1fe7f0bc",
   "metadata": {
    "_cell_guid": "b1076dfc-b9ad-4769-8c92-a6c4dae69d19",
    "_uuid": "8f2839f25d086af736a60e9eeb907d3b93b6e0e5",
    "execution": {
     "iopub.execute_input": "2022-03-17T06:53:08.433436Z",
     "iopub.status.busy": "2022-03-17T06:53:08.431934Z",
     "iopub.status.idle": "2022-03-17T06:53:08.452403Z",
     "shell.execute_reply": "2022-03-17T06:53:08.452792Z",
     "shell.execute_reply.started": "2022-03-17T06:50:23.032840Z"
    },
    "papermill": {
     "duration": 0.048407,
     "end_time": "2022-03-17T06:53:08.452999",
     "exception": false,
     "start_time": "2022-03-17T06:53:08.404592",
     "status": "completed"
    },
    "tags": []
   },
   "outputs": [
    {
     "name": "stdout",
     "output_type": "stream",
     "text": [
      "/kaggle/input/testcsv/test.csv\n",
      "/kaggle/input/traincsv/train.csv\n"
     ]
    }
   ],
   "source": [
    "# This Python 3 environment comes with many helpful analytics libraries installed\n",
    "# It is defined by the kaggle/python Docker image: https://github.com/kaggle/docker-python\n",
    "# For example, here's several helpful packages to load\n",
    "\n",
    "import numpy as np # linear algebra\n",
    "import pandas as pd # data processing, CSV file I/O (e.g. pd.read_csv)\n",
    "\n",
    "# Input data files are available in the read-only \"../input/\" directory\n",
    "# For example, running this (by clicking run or pressing Shift+Enter) will list all files under the input directory\n",
    "\n",
    "import os\n",
    "for dirname, _, filenames in os.walk('/kaggle/input'):\n",
    "    for filename in filenames:\n",
    "        print(os.path.join(dirname, filename))\n",
    "\n",
    "# You can write up to 20GB to the current directory (/kaggle/working/) that gets preserved as output when you create a version using \"Save & Run All\" \n",
    "# You can also write temporary files to /kaggle/temp/, but they won't be saved outside of the current session"
   ]
  },
  {
   "cell_type": "code",
   "execution_count": 2,
   "id": "37307716",
   "metadata": {
    "execution": {
     "iopub.execute_input": "2022-03-17T06:53:08.504036Z",
     "iopub.status.busy": "2022-03-17T06:53:08.503441Z",
     "iopub.status.idle": "2022-03-17T06:53:16.118851Z",
     "shell.execute_reply": "2022-03-17T06:53:16.118366Z",
     "shell.execute_reply.started": "2022-03-17T06:50:23.069481Z"
    },
    "papermill": {
     "duration": 7.641775,
     "end_time": "2022-03-17T06:53:16.118981",
     "exception": false,
     "start_time": "2022-03-17T06:53:08.477206",
     "status": "completed"
    },
    "tags": []
   },
   "outputs": [],
   "source": [
    "import pandas as pd\n",
    "import numpy as np\n",
    "import missingno as ms\n",
    "from sklearn.ensemble import RandomForestClassifier\n",
    "from sklearn.model_selection import train_test_split\n",
    "from cuml.svm import SVC\n",
    "from cuml.ensemble import RandomForestClassifier as cuRFC\n",
    "from cuml.linear_model import LogisticRegression\n",
    "import tensorflow as tf\n",
    "from cuml import LinearRegression\n",
    "from cuml.linear_model import LinearRegression"
   ]
  },
  {
   "cell_type": "code",
   "execution_count": 3,
   "id": "aaa038ec",
   "metadata": {
    "execution": {
     "iopub.execute_input": "2022-03-17T06:53:16.168088Z",
     "iopub.status.busy": "2022-03-17T06:53:16.166023Z",
     "iopub.status.idle": "2022-03-17T06:53:16.229501Z",
     "shell.execute_reply": "2022-03-17T06:53:16.229027Z",
     "shell.execute_reply.started": "2022-03-17T06:50:30.981664Z"
    },
    "papermill": {
     "duration": 0.088174,
     "end_time": "2022-03-17T06:53:16.229615",
     "exception": false,
     "start_time": "2022-03-17T06:53:16.141441",
     "status": "completed"
    },
    "tags": []
   },
   "outputs": [],
   "source": [
    "\n",
    "Path=\"../input/traincsv/train.csv\"\n",
    "df = pd.read_csv(Path)\n",
    "df_test=pd.read_csv(\"../input/testcsv/test.csv\")"
   ]
  },
  {
   "cell_type": "code",
   "execution_count": 4,
   "id": "597e2ab5",
   "metadata": {
    "execution": {
     "iopub.execute_input": "2022-03-17T06:53:16.277085Z",
     "iopub.status.busy": "2022-03-17T06:53:16.276247Z",
     "iopub.status.idle": "2022-03-17T06:53:16.292666Z",
     "shell.execute_reply": "2022-03-17T06:53:16.293057Z",
     "shell.execute_reply.started": "2022-03-17T06:50:31.046398Z"
    },
    "papermill": {
     "duration": 0.040883,
     "end_time": "2022-03-17T06:53:16.293205",
     "exception": false,
     "start_time": "2022-03-17T06:53:16.252322",
     "status": "completed"
    },
    "tags": []
   },
   "outputs": [
    {
     "data": {
      "text/html": [
       "<div>\n",
       "<style scoped>\n",
       "    .dataframe tbody tr th:only-of-type {\n",
       "        vertical-align: middle;\n",
       "    }\n",
       "\n",
       "    .dataframe tbody tr th {\n",
       "        vertical-align: top;\n",
       "    }\n",
       "\n",
       "    .dataframe thead th {\n",
       "        text-align: right;\n",
       "    }\n",
       "</style>\n",
       "<table border=\"1\" class=\"dataframe\">\n",
       "  <thead>\n",
       "    <tr style=\"text-align: right;\">\n",
       "      <th></th>\n",
       "      <th>home_team</th>\n",
       "      <th>away_team</th>\n",
       "      <th>country</th>\n",
       "      <th>neutral</th>\n",
       "      <th>Outcome</th>\n",
       "      <th>id</th>\n",
       "    </tr>\n",
       "  </thead>\n",
       "  <tbody>\n",
       "    <tr>\n",
       "      <th>0</th>\n",
       "      <td>Denmark</td>\n",
       "      <td>Germany</td>\n",
       "      <td>Denmark</td>\n",
       "      <td>False</td>\n",
       "      <td>1</td>\n",
       "      <td>0</td>\n",
       "    </tr>\n",
       "    <tr>\n",
       "      <th>1</th>\n",
       "      <td>Brazil</td>\n",
       "      <td>Saudi Arabia</td>\n",
       "      <td>Mexico</td>\n",
       "      <td>True</td>\n",
       "      <td>1</td>\n",
       "      <td>1</td>\n",
       "    </tr>\n",
       "    <tr>\n",
       "      <th>2</th>\n",
       "      <td>Equatorial Guinea</td>\n",
       "      <td>Morocco</td>\n",
       "      <td>Equatorial Guinea</td>\n",
       "      <td>False</td>\n",
       "      <td>0</td>\n",
       "      <td>2</td>\n",
       "    </tr>\n",
       "    <tr>\n",
       "      <th>3</th>\n",
       "      <td>Burma</td>\n",
       "      <td>Hong Kong</td>\n",
       "      <td>Burma</td>\n",
       "      <td>False</td>\n",
       "      <td>1</td>\n",
       "      <td>3</td>\n",
       "    </tr>\n",
       "    <tr>\n",
       "      <th>4</th>\n",
       "      <td>Albania</td>\n",
       "      <td>Portugal</td>\n",
       "      <td>Albania</td>\n",
       "      <td>False</td>\n",
       "      <td>0</td>\n",
       "      <td>4</td>\n",
       "    </tr>\n",
       "  </tbody>\n",
       "</table>\n",
       "</div>"
      ],
      "text/plain": [
       "           home_team     away_team            country  neutral  Outcome  id\n",
       "0            Denmark       Germany            Denmark    False        1   0\n",
       "1             Brazil  Saudi Arabia             Mexico     True        1   1\n",
       "2  Equatorial Guinea       Morocco  Equatorial Guinea    False        0   2\n",
       "3              Burma     Hong Kong              Burma    False        1   3\n",
       "4            Albania      Portugal            Albania    False        0   4"
      ]
     },
     "execution_count": 4,
     "metadata": {},
     "output_type": "execute_result"
    }
   ],
   "source": [
    "df.head()"
   ]
  },
  {
   "cell_type": "code",
   "execution_count": 5,
   "id": "f47e5f97",
   "metadata": {
    "execution": {
     "iopub.execute_input": "2022-03-17T06:53:16.350972Z",
     "iopub.status.busy": "2022-03-17T06:53:16.350215Z",
     "iopub.status.idle": "2022-03-17T06:53:16.355522Z",
     "shell.execute_reply": "2022-03-17T06:53:16.355959Z",
     "shell.execute_reply.started": "2022-03-17T06:50:31.066170Z"
    },
    "papermill": {
     "duration": 0.040517,
     "end_time": "2022-03-17T06:53:16.356076",
     "exception": false,
     "start_time": "2022-03-17T06:53:16.315559",
     "status": "completed"
    },
    "tags": []
   },
   "outputs": [
    {
     "data": {
      "text/plain": [
       "home_team    0\n",
       "away_team    0\n",
       "country      0\n",
       "neutral      0\n",
       "Outcome      0\n",
       "id           0\n",
       "dtype: int64"
      ]
     },
     "execution_count": 5,
     "metadata": {},
     "output_type": "execute_result"
    }
   ],
   "source": [
    "df.isnull().sum()\n",
    "#hence no null values \n",
    "\n"
   ]
  },
  {
   "cell_type": "code",
   "execution_count": 6,
   "id": "3e8b0795",
   "metadata": {
    "execution": {
     "iopub.execute_input": "2022-03-17T06:53:16.426570Z",
     "iopub.status.busy": "2022-03-17T06:53:16.425864Z",
     "iopub.status.idle": "2022-03-17T06:53:16.428294Z",
     "shell.execute_reply": "2022-03-17T06:53:16.427865Z",
     "shell.execute_reply.started": "2022-03-17T06:50:31.085420Z"
    },
    "papermill": {
     "duration": 0.049543,
     "end_time": "2022-03-17T06:53:16.428402",
     "exception": false,
     "start_time": "2022-03-17T06:53:16.378859",
     "status": "completed"
    },
    "tags": []
   },
   "outputs": [],
   "source": [
    "df['home_adv'] = df['home_team']==df['country']\n",
    "df['home_disadv'] = df['away_team']==df['country']\n",
    "df_test['home_adv'] = df_test['home_team']==df_test['country']\n",
    "df_test['home_disadv'] = df_test['away_team']==df_test['country']"
   ]
  },
  {
   "cell_type": "code",
   "execution_count": 7,
   "id": "305fd798",
   "metadata": {
    "execution": {
     "iopub.execute_input": "2022-03-17T06:53:16.503213Z",
     "iopub.status.busy": "2022-03-17T06:53:16.500418Z",
     "iopub.status.idle": "2022-03-17T06:53:40.836207Z",
     "shell.execute_reply": "2022-03-17T06:53:40.836591Z",
     "shell.execute_reply.started": "2022-03-17T06:50:31.111427Z"
    },
    "papermill": {
     "duration": 24.385596,
     "end_time": "2022-03-17T06:53:40.836759",
     "exception": false,
     "start_time": "2022-03-17T06:53:16.451163",
     "status": "completed"
    },
    "tags": []
   },
   "outputs": [
    {
     "name": "stderr",
     "output_type": "stream",
     "text": [
      "/opt/conda/lib/python3.7/site-packages/ipykernel_launcher.py:16: SettingWithCopyWarning: \n",
      "A value is trying to be set on a copy of a slice from a DataFrame\n",
      "\n",
      "See the caveats in the documentation: https://pandas.pydata.org/pandas-docs/stable/user_guide/indexing.html#returning-a-view-versus-a-copy\n",
      "  app.launch_new_instance()\n",
      "/opt/conda/lib/python3.7/site-packages/ipykernel_launcher.py:18: SettingWithCopyWarning: \n",
      "A value is trying to be set on a copy of a slice from a DataFrame\n",
      "\n",
      "See the caveats in the documentation: https://pandas.pydata.org/pandas-docs/stable/user_guide/indexing.html#returning-a-view-versus-a-copy\n",
      "/opt/conda/lib/python3.7/site-packages/ipykernel_launcher.py:20: SettingWithCopyWarning: \n",
      "A value is trying to be set on a copy of a slice from a DataFrame\n",
      "\n",
      "See the caveats in the documentation: https://pandas.pydata.org/pandas-docs/stable/user_guide/indexing.html#returning-a-view-versus-a-copy\n",
      "/opt/conda/lib/python3.7/site-packages/ipykernel_launcher.py:22: SettingWithCopyWarning: \n",
      "A value is trying to be set on a copy of a slice from a DataFrame\n",
      "\n",
      "See the caveats in the documentation: https://pandas.pydata.org/pandas-docs/stable/user_guide/indexing.html#returning-a-view-versus-a-copy\n",
      "/opt/conda/lib/python3.7/site-packages/ipykernel_launcher.py:24: SettingWithCopyWarning: \n",
      "A value is trying to be set on a copy of a slice from a DataFrame\n",
      "\n",
      "See the caveats in the documentation: https://pandas.pydata.org/pandas-docs/stable/user_guide/indexing.html#returning-a-view-versus-a-copy\n",
      "/opt/conda/lib/python3.7/site-packages/pandas/core/indexing.py:1732: SettingWithCopyWarning: \n",
      "A value is trying to be set on a copy of a slice from a DataFrame\n",
      "\n",
      "See the caveats in the documentation: https://pandas.pydata.org/pandas-docs/stable/user_guide/indexing.html#returning-a-view-versus-a-copy\n",
      "  self._setitem_single_block(indexer, value, name)\n",
      "/opt/conda/lib/python3.7/site-packages/ipykernel_launcher.py:25: SettingWithCopyWarning: \n",
      "A value is trying to be set on a copy of a slice from a DataFrame\n",
      "\n",
      "See the caveats in the documentation: https://pandas.pydata.org/pandas-docs/stable/user_guide/indexing.html#returning-a-view-versus-a-copy\n",
      "/opt/conda/lib/python3.7/site-packages/ipykernel_launcher.py:26: SettingWithCopyWarning: \n",
      "A value is trying to be set on a copy of a slice from a DataFrame\n",
      "\n",
      "See the caveats in the documentation: https://pandas.pydata.org/pandas-docs/stable/user_guide/indexing.html#returning-a-view-versus-a-copy\n",
      "/opt/conda/lib/python3.7/site-packages/ipykernel_launcher.py:28: SettingWithCopyWarning: \n",
      "A value is trying to be set on a copy of a slice from a DataFrame\n",
      "\n",
      "See the caveats in the documentation: https://pandas.pydata.org/pandas-docs/stable/user_guide/indexing.html#returning-a-view-versus-a-copy\n",
      "/opt/conda/lib/python3.7/site-packages/ipykernel_launcher.py:29: SettingWithCopyWarning: \n",
      "A value is trying to be set on a copy of a slice from a DataFrame\n",
      "\n",
      "See the caveats in the documentation: https://pandas.pydata.org/pandas-docs/stable/user_guide/indexing.html#returning-a-view-versus-a-copy\n",
      "/opt/conda/lib/python3.7/site-packages/ipykernel_launcher.py:30: SettingWithCopyWarning: \n",
      "A value is trying to be set on a copy of a slice from a DataFrame\n",
      "\n",
      "See the caveats in the documentation: https://pandas.pydata.org/pandas-docs/stable/user_guide/indexing.html#returning-a-view-versus-a-copy\n"
     ]
    }
   ],
   "source": [
    "teams = {}\n",
    "booleanDict = {\n",
    "    False : 0,\n",
    "    True : 1\n",
    "}\n",
    "counter = 1\n",
    "for team in df['home_team'] :\n",
    "    if team not in teams :\n",
    "        teams[team] = counter\n",
    "        counter += 1\n",
    "for team in df['away_team'] :\n",
    "    if team not in teams :\n",
    "        teams[team] = counter\n",
    "        counter+=1\n",
    "for i in range(len(df['home_team'])) :\n",
    "    df['home_team'][i] = teams[df['home_team'][i]]\n",
    "for i in range(len(df['away_team'])) :\n",
    "    df['away_team'][i] = teams[df['away_team'][i]]\n",
    "for i in range(len(df_test['home_team'])) :\n",
    "    df_test['home_team'][i] = teams[df_test['home_team'][i]]\n",
    "for i in range(len(df_test['away_team'])) :\n",
    "    df_test['away_team'][i] = teams[df_test['away_team'][i]]\n",
    "for i in range(len(df['neutral'])) :\n",
    "    df['neutral'][i] = booleanDict[df['neutral'][i]]\n",
    "    df['home_adv'][i] = booleanDict[df['home_adv'][i]]\n",
    "    df['home_disadv'][i] = booleanDict[df['home_disadv'][i]]\n",
    "for i in range(len(df_test['neutral'])) :\n",
    "    df_test['neutral'][i] = booleanDict[df_test['neutral'][i]]\n",
    "    df_test['home_adv'][i] = booleanDict[df_test['home_adv'][i]]\n",
    "    df_test['home_disadv'][i] = booleanDict[df_test['home_disadv'][i]]"
   ]
  },
  {
   "cell_type": "code",
   "execution_count": 8,
   "id": "06e1cbf4",
   "metadata": {
    "execution": {
     "iopub.execute_input": "2022-03-17T06:53:40.892003Z",
     "iopub.status.busy": "2022-03-17T06:53:40.891496Z",
     "iopub.status.idle": "2022-03-17T06:53:40.902217Z",
     "shell.execute_reply": "2022-03-17T06:53:40.901308Z",
     "shell.execute_reply.started": "2022-03-17T06:50:55.036931Z"
    },
    "papermill": {
     "duration": 0.039973,
     "end_time": "2022-03-17T06:53:40.902329",
     "exception": false,
     "start_time": "2022-03-17T06:53:40.862356",
     "status": "completed"
    },
    "tags": []
   },
   "outputs": [],
   "source": [
    "df = df.drop(['country'],axis=1)\n",
    "df_test = df_test.drop(['country'],axis=1)"
   ]
  },
  {
   "cell_type": "code",
   "execution_count": 9,
   "id": "c2dcda9c",
   "metadata": {
    "execution": {
     "iopub.execute_input": "2022-03-17T06:53:40.966203Z",
     "iopub.status.busy": "2022-03-17T06:53:40.965685Z",
     "iopub.status.idle": "2022-03-17T06:53:40.969820Z",
     "shell.execute_reply": "2022-03-17T06:53:40.970224Z",
     "shell.execute_reply.started": "2022-03-17T06:50:55.051519Z"
    },
    "papermill": {
     "duration": 0.04276,
     "end_time": "2022-03-17T06:53:40.970348",
     "exception": false,
     "start_time": "2022-03-17T06:53:40.927588",
     "status": "completed"
    },
    "tags": []
   },
   "outputs": [
    {
     "data": {
      "text/html": [
       "<div>\n",
       "<style scoped>\n",
       "    .dataframe tbody tr th:only-of-type {\n",
       "        vertical-align: middle;\n",
       "    }\n",
       "\n",
       "    .dataframe tbody tr th {\n",
       "        vertical-align: top;\n",
       "    }\n",
       "\n",
       "    .dataframe thead th {\n",
       "        text-align: right;\n",
       "    }\n",
       "</style>\n",
       "<table border=\"1\" class=\"dataframe\">\n",
       "  <thead>\n",
       "    <tr style=\"text-align: right;\">\n",
       "      <th></th>\n",
       "      <th>home_team</th>\n",
       "      <th>away_team</th>\n",
       "      <th>neutral</th>\n",
       "      <th>Outcome</th>\n",
       "      <th>id</th>\n",
       "      <th>home_adv</th>\n",
       "      <th>home_disadv</th>\n",
       "    </tr>\n",
       "  </thead>\n",
       "  <tbody>\n",
       "    <tr>\n",
       "      <th>0</th>\n",
       "      <td>1</td>\n",
       "      <td>7</td>\n",
       "      <td>0</td>\n",
       "      <td>1</td>\n",
       "      <td>0</td>\n",
       "      <td>1</td>\n",
       "      <td>0</td>\n",
       "    </tr>\n",
       "    <tr>\n",
       "      <th>1</th>\n",
       "      <td>2</td>\n",
       "      <td>29</td>\n",
       "      <td>1</td>\n",
       "      <td>1</td>\n",
       "      <td>1</td>\n",
       "      <td>0</td>\n",
       "      <td>0</td>\n",
       "    </tr>\n",
       "    <tr>\n",
       "      <th>2</th>\n",
       "      <td>3</td>\n",
       "      <td>45</td>\n",
       "      <td>0</td>\n",
       "      <td>0</td>\n",
       "      <td>2</td>\n",
       "      <td>1</td>\n",
       "      <td>0</td>\n",
       "    </tr>\n",
       "    <tr>\n",
       "      <th>3</th>\n",
       "      <td>4</td>\n",
       "      <td>121</td>\n",
       "      <td>0</td>\n",
       "      <td>1</td>\n",
       "      <td>3</td>\n",
       "      <td>1</td>\n",
       "      <td>0</td>\n",
       "    </tr>\n",
       "    <tr>\n",
       "      <th>4</th>\n",
       "      <td>5</td>\n",
       "      <td>25</td>\n",
       "      <td>0</td>\n",
       "      <td>0</td>\n",
       "      <td>4</td>\n",
       "      <td>1</td>\n",
       "      <td>0</td>\n",
       "    </tr>\n",
       "    <tr>\n",
       "      <th>...</th>\n",
       "      <td>...</td>\n",
       "      <td>...</td>\n",
       "      <td>...</td>\n",
       "      <td>...</td>\n",
       "      <td>...</td>\n",
       "      <td>...</td>\n",
       "      <td>...</td>\n",
       "    </tr>\n",
       "    <tr>\n",
       "      <th>29995</th>\n",
       "      <td>147</td>\n",
       "      <td>134</td>\n",
       "      <td>1</td>\n",
       "      <td>0</td>\n",
       "      <td>29995</td>\n",
       "      <td>0</td>\n",
       "      <td>0</td>\n",
       "    </tr>\n",
       "    <tr>\n",
       "      <th>29996</th>\n",
       "      <td>96</td>\n",
       "      <td>104</td>\n",
       "      <td>0</td>\n",
       "      <td>1</td>\n",
       "      <td>29996</td>\n",
       "      <td>1</td>\n",
       "      <td>0</td>\n",
       "    </tr>\n",
       "    <tr>\n",
       "      <th>29997</th>\n",
       "      <td>91</td>\n",
       "      <td>25</td>\n",
       "      <td>1</td>\n",
       "      <td>1</td>\n",
       "      <td>29997</td>\n",
       "      <td>0</td>\n",
       "      <td>0</td>\n",
       "    </tr>\n",
       "    <tr>\n",
       "      <th>29998</th>\n",
       "      <td>91</td>\n",
       "      <td>41</td>\n",
       "      <td>0</td>\n",
       "      <td>0</td>\n",
       "      <td>29998</td>\n",
       "      <td>1</td>\n",
       "      <td>0</td>\n",
       "    </tr>\n",
       "    <tr>\n",
       "      <th>29999</th>\n",
       "      <td>7</td>\n",
       "      <td>127</td>\n",
       "      <td>0</td>\n",
       "      <td>1</td>\n",
       "      <td>29999</td>\n",
       "      <td>1</td>\n",
       "      <td>0</td>\n",
       "    </tr>\n",
       "  </tbody>\n",
       "</table>\n",
       "<p>30000 rows × 7 columns</p>\n",
       "</div>"
      ],
      "text/plain": [
       "      home_team away_team neutral  Outcome     id home_adv home_disadv\n",
       "0             1         7       0        1      0        1           0\n",
       "1             2        29       1        1      1        0           0\n",
       "2             3        45       0        0      2        1           0\n",
       "3             4       121       0        1      3        1           0\n",
       "4             5        25       0        0      4        1           0\n",
       "...         ...       ...     ...      ...    ...      ...         ...\n",
       "29995       147       134       1        0  29995        0           0\n",
       "29996        96       104       0        1  29996        1           0\n",
       "29997        91        25       1        1  29997        0           0\n",
       "29998        91        41       0        0  29998        1           0\n",
       "29999         7       127       0        1  29999        1           0\n",
       "\n",
       "[30000 rows x 7 columns]"
      ]
     },
     "execution_count": 9,
     "metadata": {},
     "output_type": "execute_result"
    }
   ],
   "source": [
    "df"
   ]
  },
  {
   "cell_type": "code",
   "execution_count": 10,
   "id": "d1ca8984",
   "metadata": {
    "execution": {
     "iopub.execute_input": "2022-03-17T06:53:41.028677Z",
     "iopub.status.busy": "2022-03-17T06:53:41.026936Z",
     "iopub.status.idle": "2022-03-17T06:53:41.742397Z",
     "shell.execute_reply": "2022-03-17T06:53:41.741656Z",
     "shell.execute_reply.started": "2022-03-17T06:50:55.075458Z"
    },
    "papermill": {
     "duration": 0.74604,
     "end_time": "2022-03-17T06:53:41.742520",
     "exception": false,
     "start_time": "2022-03-17T06:53:40.996480",
     "status": "completed"
    },
    "tags": []
   },
   "outputs": [
    {
     "name": "stdout",
     "output_type": "stream",
     "text": [
      "Index(['home_team', 'away_team', 'neutral', 'Outcome', 'id', 'home_adv',\n",
      "       'home_disadv'],\n",
      "      dtype='object')\n"
     ]
    },
    {
     "data": {
      "text/plain": [
       "array([0.1751921 , 0.37003229, 0.19278711, 0.00819569, 0.24838884,\n",
       "       0.00540397])"
      ]
     },
     "execution_count": 10,
     "metadata": {},
     "output_type": "execute_result"
    }
   ],
   "source": [
    "clf = RandomForestClassifier(max_depth=2, random_state=0)\n",
    "clf.fit(df.drop(['Outcome'],axis=1), df['Outcome'])\n",
    "print(df.columns)\n",
    "clf.feature_importances_"
   ]
  },
  {
   "cell_type": "code",
   "execution_count": 11,
   "id": "3da4f7b0",
   "metadata": {
    "execution": {
     "iopub.execute_input": "2022-03-17T06:53:41.803651Z",
     "iopub.status.busy": "2022-03-17T06:53:41.802844Z",
     "iopub.status.idle": "2022-03-17T06:53:41.808518Z",
     "shell.execute_reply": "2022-03-17T06:53:41.808034Z",
     "shell.execute_reply.started": "2022-03-17T06:50:55.789268Z"
    },
    "papermill": {
     "duration": 0.039767,
     "end_time": "2022-03-17T06:53:41.808640",
     "exception": false,
     "start_time": "2022-03-17T06:53:41.768873",
     "status": "completed"
    },
    "tags": []
   },
   "outputs": [],
   "source": [
    "train_x,test_x,train_y,test_y = train_test_split(df.drop(['Outcome','id','home_disadv'],axis=1),df['Outcome'],test_size=0.2,random_state=0)\n"
   ]
  },
  {
   "cell_type": "code",
   "execution_count": 12,
   "id": "a832b1a9",
   "metadata": {
    "execution": {
     "iopub.execute_input": "2022-03-17T06:53:41.877904Z",
     "iopub.status.busy": "2022-03-17T06:53:41.877068Z",
     "iopub.status.idle": "2022-03-17T06:53:42.409456Z",
     "shell.execute_reply": "2022-03-17T06:53:42.408835Z",
     "shell.execute_reply.started": "2022-03-17T06:50:55.801948Z"
    },
    "papermill": {
     "duration": 0.57294,
     "end_time": "2022-03-17T06:53:42.409614",
     "exception": false,
     "start_time": "2022-03-17T06:53:41.836674",
     "status": "completed"
    },
    "tags": []
   },
   "outputs": [
    {
     "name": "stdout",
     "output_type": "stream",
     "text": [
      "Index(['home_team', 'away_team', 'neutral', 'home_adv'], dtype='object')\n"
     ]
    },
    {
     "data": {
      "text/plain": [
       "array([0.3163739 , 0.28394921, 0.15787956, 0.24179733])"
      ]
     },
     "execution_count": 12,
     "metadata": {},
     "output_type": "execute_result"
    }
   ],
   "source": [
    "clf = RandomForestClassifier(max_depth=2, random_state=0)\n",
    "clf.fit(train_x, train_y)\n",
    "print(train_x.columns)\n",
    "clf.feature_importances_"
   ]
  },
  {
   "cell_type": "code",
   "execution_count": 13,
   "id": "05144b8b",
   "metadata": {
    "execution": {
     "iopub.execute_input": "2022-03-17T06:53:42.474865Z",
     "iopub.status.busy": "2022-03-17T06:53:42.474236Z",
     "iopub.status.idle": "2022-03-17T06:53:42.477367Z",
     "shell.execute_reply": "2022-03-17T06:53:42.477774Z",
     "shell.execute_reply.started": "2022-03-17T06:50:56.325272Z"
    },
    "papermill": {
     "duration": 0.040932,
     "end_time": "2022-03-17T06:53:42.477893",
     "exception": false,
     "start_time": "2022-03-17T06:53:42.436961",
     "status": "completed"
    },
    "tags": []
   },
   "outputs": [
    {
     "data": {
      "text/html": [
       "<div>\n",
       "<style scoped>\n",
       "    .dataframe tbody tr th:only-of-type {\n",
       "        vertical-align: middle;\n",
       "    }\n",
       "\n",
       "    .dataframe tbody tr th {\n",
       "        vertical-align: top;\n",
       "    }\n",
       "\n",
       "    .dataframe thead th {\n",
       "        text-align: right;\n",
       "    }\n",
       "</style>\n",
       "<table border=\"1\" class=\"dataframe\">\n",
       "  <thead>\n",
       "    <tr style=\"text-align: right;\">\n",
       "      <th></th>\n",
       "      <th>home_team</th>\n",
       "      <th>away_team</th>\n",
       "      <th>neutral</th>\n",
       "      <th>home_adv</th>\n",
       "    </tr>\n",
       "  </thead>\n",
       "  <tbody>\n",
       "    <tr>\n",
       "      <th>3225</th>\n",
       "      <td>14</td>\n",
       "      <td>114</td>\n",
       "      <td>1</td>\n",
       "      <td>0</td>\n",
       "    </tr>\n",
       "    <tr>\n",
       "      <th>11815</th>\n",
       "      <td>162</td>\n",
       "      <td>178</td>\n",
       "      <td>0</td>\n",
       "      <td>1</td>\n",
       "    </tr>\n",
       "    <tr>\n",
       "      <th>7338</th>\n",
       "      <td>151</td>\n",
       "      <td>129</td>\n",
       "      <td>1</td>\n",
       "      <td>0</td>\n",
       "    </tr>\n",
       "    <tr>\n",
       "      <th>14980</th>\n",
       "      <td>117</td>\n",
       "      <td>53</td>\n",
       "      <td>0</td>\n",
       "      <td>1</td>\n",
       "    </tr>\n",
       "    <tr>\n",
       "      <th>27167</th>\n",
       "      <td>140</td>\n",
       "      <td>91</td>\n",
       "      <td>0</td>\n",
       "      <td>1</td>\n",
       "    </tr>\n",
       "    <tr>\n",
       "      <th>...</th>\n",
       "      <td>...</td>\n",
       "      <td>...</td>\n",
       "      <td>...</td>\n",
       "      <td>...</td>\n",
       "    </tr>\n",
       "    <tr>\n",
       "      <th>13123</th>\n",
       "      <td>176</td>\n",
       "      <td>223</td>\n",
       "      <td>0</td>\n",
       "      <td>1</td>\n",
       "    </tr>\n",
       "    <tr>\n",
       "      <th>19648</th>\n",
       "      <td>98</td>\n",
       "      <td>133</td>\n",
       "      <td>0</td>\n",
       "      <td>1</td>\n",
       "    </tr>\n",
       "    <tr>\n",
       "      <th>9845</th>\n",
       "      <td>56</td>\n",
       "      <td>152</td>\n",
       "      <td>0</td>\n",
       "      <td>1</td>\n",
       "    </tr>\n",
       "    <tr>\n",
       "      <th>10799</th>\n",
       "      <td>96</td>\n",
       "      <td>101</td>\n",
       "      <td>0</td>\n",
       "      <td>1</td>\n",
       "    </tr>\n",
       "    <tr>\n",
       "      <th>2732</th>\n",
       "      <td>141</td>\n",
       "      <td>191</td>\n",
       "      <td>0</td>\n",
       "      <td>1</td>\n",
       "    </tr>\n",
       "  </tbody>\n",
       "</table>\n",
       "<p>24000 rows × 4 columns</p>\n",
       "</div>"
      ],
      "text/plain": [
       "      home_team away_team neutral home_adv\n",
       "3225         14       114       1        0\n",
       "11815       162       178       0        1\n",
       "7338        151       129       1        0\n",
       "14980       117        53       0        1\n",
       "27167       140        91       0        1\n",
       "...         ...       ...     ...      ...\n",
       "13123       176       223       0        1\n",
       "19648        98       133       0        1\n",
       "9845         56       152       0        1\n",
       "10799        96       101       0        1\n",
       "2732        141       191       0        1\n",
       "\n",
       "[24000 rows x 4 columns]"
      ]
     },
     "execution_count": 13,
     "metadata": {},
     "output_type": "execute_result"
    }
   ],
   "source": [
    "train_x"
   ]
  },
  {
   "cell_type": "code",
   "execution_count": 14,
   "id": "5e5e301e",
   "metadata": {
    "execution": {
     "iopub.execute_input": "2022-03-17T06:53:42.545448Z",
     "iopub.status.busy": "2022-03-17T06:53:42.544915Z",
     "iopub.status.idle": "2022-03-17T06:53:51.181677Z",
     "shell.execute_reply": "2022-03-17T06:53:51.181032Z",
     "shell.execute_reply.started": "2022-03-17T06:50:56.339315Z"
    },
    "papermill": {
     "duration": 8.676758,
     "end_time": "2022-03-17T06:53:51.181845",
     "exception": false,
     "start_time": "2022-03-17T06:53:42.505087",
     "status": "completed"
    },
    "tags": []
   },
   "outputs": [
    {
     "name": "stdout",
     "output_type": "stream",
     "text": [
      "0.6274999976158142\n",
      "0.3725\n"
     ]
    }
   ],
   "source": [
    "X = np.asarray(train_x.values, dtype=np.float32)\n",
    "y = np.asarray(train_y.values, dtype=np.float32)\n",
    "lr = LinearRegression(fit_intercept = False, normalize = False,algorithm = \"svd\")\n",
    "reg = lr.fit(X,y)\n",
    "preds = reg.predict(np.asarray(test_x.values, dtype=np.float32))\n",
    "newPreds = []\n",
    "for i in range(len(preds)) :\n",
    "    if preds[i] <= 0.5 :\n",
    "        newPreds.append(0)\n",
    "    else :\n",
    "        newPreds.append(1)\n",
    "preds = reg.predict(np.asarray(test_x.values, dtype=np.float32))\n",
    "from cuml.metrics.accuracy import accuracy_score\n",
    "print(accuracy_score(test_y,np.asarray(newPreds)))\n",
    "import cuml\n",
    "MAE = cuml.metrics.regression.mean_absolute_error(test_y,np.asarray(newPreds))\n",
    "print(MAE)"
   ]
  },
  {
   "cell_type": "code",
   "execution_count": 15,
   "id": "69d374bf",
   "metadata": {
    "execution": {
     "iopub.execute_input": "2022-03-17T06:53:51.250274Z",
     "iopub.status.busy": "2022-03-17T06:53:51.249471Z",
     "iopub.status.idle": "2022-03-17T06:53:53.651113Z",
     "shell.execute_reply": "2022-03-17T06:53:53.651695Z",
     "shell.execute_reply.started": "2022-03-17T06:51:04.968219Z"
    },
    "papermill": {
     "duration": 2.441406,
     "end_time": "2022-03-17T06:53:53.651880",
     "exception": false,
     "start_time": "2022-03-17T06:53:51.210474",
     "status": "completed"
    },
    "tags": []
   },
   "outputs": [
    {
     "name": "stdout",
     "output_type": "stream",
     "text": [
      "0.6813333630561829\n"
     ]
    }
   ],
   "source": [
    "X = np.asarray(train_x.values, dtype=np.float32)\n",
    "y = np.asarray(train_y.values, dtype=np.float32)\n",
    "clf = SVC(kernel='rbf', degree=3, gamma='auto', C=1)\n",
    "clf.fit(X, y)\n",
    "cuml_predict = clf.predict(np.asarray(test_x.values, dtype=np.float32))\n",
    "from cuml.metrics.accuracy import accuracy_score\n",
    "print(accuracy_score(test_y,cuml_predict))"
   ]
  },
  {
   "cell_type": "code",
   "execution_count": 16,
   "id": "118f0161",
   "metadata": {
    "execution": {
     "iopub.execute_input": "2022-03-17T06:53:53.721445Z",
     "iopub.status.busy": "2022-03-17T06:53:53.720479Z",
     "iopub.status.idle": "2022-03-17T06:53:56.629821Z",
     "shell.execute_reply": "2022-03-17T06:53:56.630410Z",
     "shell.execute_reply.started": "2022-03-17T06:51:07.418178Z"
    },
    "papermill": {
     "duration": 2.949522,
     "end_time": "2022-03-17T06:53:56.630598",
     "exception": false,
     "start_time": "2022-03-17T06:53:53.681076",
     "status": "completed"
    },
    "tags": []
   },
   "outputs": [
    {
     "name": "stdout",
     "output_type": "stream",
     "text": [
      "0.6973333358764648\n"
     ]
    }
   ],
   "source": [
    "X = np.asarray(train_x.values, dtype=np.float32)\n",
    "y = np.asarray(train_y.values, dtype=np.float32)\n",
    "cuml_model = cuRFC(max_features=1.0,\n",
    "                   n_bins=128,\n",
    "                   n_estimators=200)\n",
    "cuml_model.fit(X,y)\n",
    "cuml_predict = cuml_model.predict(np.asarray(test_x.values, dtype=np.float32))\n",
    "from cuml.metrics.accuracy import accuracy_score\n",
    "print(accuracy_score(test_y,cuml_predict))"
   ]
  },
  {
   "cell_type": "code",
   "execution_count": 17,
   "id": "978e9089",
   "metadata": {
    "execution": {
     "iopub.execute_input": "2022-03-17T06:53:56.701435Z",
     "iopub.status.busy": "2022-03-17T06:53:56.700619Z",
     "iopub.status.idle": "2022-03-17T06:53:56.974694Z",
     "shell.execute_reply": "2022-03-17T06:53:56.975151Z",
     "shell.execute_reply.started": "2022-03-17T06:51:10.286514Z"
    },
    "papermill": {
     "duration": 0.315068,
     "end_time": "2022-03-17T06:53:56.975307",
     "exception": false,
     "start_time": "2022-03-17T06:53:56.660239",
     "status": "completed"
    },
    "tags": []
   },
   "outputs": [
    {
     "name": "stdout",
     "output_type": "stream",
     "text": [
      "0.6386666893959045\n"
     ]
    }
   ],
   "source": [
    "X = np.asarray(train_x.values, dtype=np.float32)\n",
    "y = np.asarray(train_y.values, dtype=np.float32)\n",
    "reg = LogisticRegression()\n",
    "reg.fit(X,y)\n",
    "preds = reg.predict(np.asarray(test_x.values, dtype=np.float32))\n",
    "from cuml.metrics.accuracy import accuracy_score\n",
    "print(accuracy_score(test_y,preds))"
   ]
  },
  {
   "cell_type": "markdown",
   "id": "fc5e0f36",
   "metadata": {
    "papermill": {
     "duration": 0.032805,
     "end_time": "2022-03-17T06:53:57.037487",
     "exception": false,
     "start_time": "2022-03-17T06:53:57.004682",
     "status": "completed"
    },
    "tags": []
   },
   "source": []
  },
  {
   "cell_type": "code",
   "execution_count": 18,
   "id": "000f27fb",
   "metadata": {
    "execution": {
     "iopub.execute_input": "2022-03-17T06:53:57.109370Z",
     "iopub.status.busy": "2022-03-17T06:53:57.108585Z",
     "iopub.status.idle": "2022-03-17T06:53:57.115213Z",
     "shell.execute_reply": "2022-03-17T06:53:57.115631Z",
     "shell.execute_reply.started": "2022-03-17T06:51:10.591962Z"
    },
    "papermill": {
     "duration": 0.045153,
     "end_time": "2022-03-17T06:53:57.115757",
     "exception": false,
     "start_time": "2022-03-17T06:53:57.070604",
     "status": "completed"
    },
    "tags": []
   },
   "outputs": [],
   "source": [
    "train_x,test_x,train_y,test_y = train_test_split(df.drop(['Outcome','id','home_disadv'],axis=1),df['Outcome'],test_size=0.2,random_state=0)\n"
   ]
  },
  {
   "cell_type": "code",
   "execution_count": 19,
   "id": "b04367a1",
   "metadata": {
    "execution": {
     "iopub.execute_input": "2022-03-17T06:53:57.185845Z",
     "iopub.status.busy": "2022-03-17T06:53:57.184706Z",
     "iopub.status.idle": "2022-03-17T06:54:04.039169Z",
     "shell.execute_reply": "2022-03-17T06:54:04.039984Z",
     "shell.execute_reply.started": "2022-03-17T06:51:10.604905Z"
    },
    "papermill": {
     "duration": 6.892706,
     "end_time": "2022-03-17T06:54:04.040188",
     "exception": false,
     "start_time": "2022-03-17T06:53:57.147482",
     "status": "completed"
    },
    "tags": []
   },
   "outputs": [
    {
     "name": "stderr",
     "output_type": "stream",
     "text": [
      "2022-03-17 06:53:58.052503: I tensorflow/stream_executor/cuda/cuda_gpu_executor.cc:937] successful NUMA node read from SysFS had negative value (-1), but there must be at least one NUMA node, so returning NUMA node zero\n",
      "2022-03-17 06:53:58.057031: I tensorflow/stream_executor/cuda/cuda_gpu_executor.cc:937] successful NUMA node read from SysFS had negative value (-1), but there must be at least one NUMA node, so returning NUMA node zero\n",
      "2022-03-17 06:53:58.057727: I tensorflow/stream_executor/cuda/cuda_gpu_executor.cc:937] successful NUMA node read from SysFS had negative value (-1), but there must be at least one NUMA node, so returning NUMA node zero\n",
      "2022-03-17 06:53:58.058765: I tensorflow/core/platform/cpu_feature_guard.cc:142] This TensorFlow binary is optimized with oneAPI Deep Neural Network Library (oneDNN) to use the following CPU instructions in performance-critical operations:  AVX2 AVX512F FMA\n",
      "To enable them in other operations, rebuild TensorFlow with the appropriate compiler flags.\n",
      "2022-03-17 06:53:58.060044: I tensorflow/stream_executor/cuda/cuda_gpu_executor.cc:937] successful NUMA node read from SysFS had negative value (-1), but there must be at least one NUMA node, so returning NUMA node zero\n",
      "2022-03-17 06:53:58.060693: I tensorflow/stream_executor/cuda/cuda_gpu_executor.cc:937] successful NUMA node read from SysFS had negative value (-1), but there must be at least one NUMA node, so returning NUMA node zero\n",
      "2022-03-17 06:53:58.061337: I tensorflow/stream_executor/cuda/cuda_gpu_executor.cc:937] successful NUMA node read from SysFS had negative value (-1), but there must be at least one NUMA node, so returning NUMA node zero\n",
      "2022-03-17 06:53:58.065009: I tensorflow/stream_executor/cuda/cuda_gpu_executor.cc:937] successful NUMA node read from SysFS had negative value (-1), but there must be at least one NUMA node, so returning NUMA node zero\n",
      "2022-03-17 06:53:58.065698: I tensorflow/stream_executor/cuda/cuda_gpu_executor.cc:937] successful NUMA node read from SysFS had negative value (-1), but there must be at least one NUMA node, so returning NUMA node zero\n",
      "2022-03-17 06:53:58.066558: I tensorflow/stream_executor/cuda/cuda_gpu_executor.cc:937] successful NUMA node read from SysFS had negative value (-1), but there must be at least one NUMA node, so returning NUMA node zero\n",
      "2022-03-17 06:53:58.067383: I tensorflow/core/common_runtime/gpu/gpu_device.cc:1510] Created device /job:localhost/replica:0/task:0/device:GPU:0 with 14791 MB memory:  -> device: 0, name: Tesla P100-PCIE-16GB, pci bus id: 0000:00:04.0, compute capability: 6.0\n",
      "2022-03-17 06:53:58.458495: I tensorflow/compiler/mlir/mlir_graph_optimization_pass.cc:185] None of the MLIR Optimization Passes are enabled (registered 2)\n"
     ]
    },
    {
     "name": "stdout",
     "output_type": "stream",
     "text": [
      "Epoch 1/2\n",
      "750/750 [==============================] - 2s 2ms/step - loss: 0.7244 - accuracy: 0.6249\n",
      "Epoch 2/2\n",
      "750/750 [==============================] - 2s 2ms/step - loss: 0.6533 - accuracy: 0.6319\n"
     ]
    }
   ],
   "source": [
    "ann = tf.keras.models.Sequential()\n",
    "ann.add(tf.keras.layers.Dense(units = 500,activation='relu'))\n",
    "ann.add(tf.keras.layers.Dense(units = 500,activation='relu'))\n",
    "ann.add(tf.keras.layers.Dense(units = 500,activation='relu'))\n",
    "ann.add(tf.keras.layers.Dense(units = 1,activation='sigmoid'))\n",
    "ann.compile(optimizer='adam',loss='binary_crossentropy',metrics=['accuracy'])\n",
    "history = ann.fit(train_x.astype(float),train_y.astype(float),batch_size=32,epochs=2)"
   ]
  },
  {
   "cell_type": "code",
   "execution_count": 20,
   "id": "12bb2b5b",
   "metadata": {
    "execution": {
     "iopub.execute_input": "2022-03-17T06:54:04.157299Z",
     "iopub.status.busy": "2022-03-17T06:54:04.156561Z",
     "iopub.status.idle": "2022-03-17T06:54:04.762848Z",
     "shell.execute_reply": "2022-03-17T06:54:04.763435Z",
     "shell.execute_reply.started": "2022-03-17T06:51:17.463116Z"
    },
    "papermill": {
     "duration": 0.66832,
     "end_time": "2022-03-17T06:54:04.763638",
     "exception": false,
     "start_time": "2022-03-17T06:54:04.095318",
     "status": "completed"
    },
    "tags": []
   },
   "outputs": [
    {
     "data": {
      "image/png": "[encoded data removed]",
      "text/plain": [
       "<Figure size 432x288 with 1 Axes>"
      ]
     },
     "metadata": {
      "needs_background": "light"
     },
     "output_type": "display_data"
    },
    {
     "name": "stdout",
     "output_type": "stream",
     "text": [
      "0.37216666666666665\n"
     ]
    }
   ],
   "source": [
    "loss=history.history['loss']\n",
    "acc=history.history['accuracy']\n",
    "epochs=range(len(loss))\n",
    "import matplotlib.pyplot as plt\n",
    "plt.plot(epochs,loss)\n",
    "plt.plot(epochs,acc)\n",
    "plt.show()\n",
    "prob = ann.predict(test_x.astype(float))\n",
    "preds = []\n",
    "for prediction in prob :\n",
    "    if prediction<=0.5 :\n",
    "        preds.append(0)\n",
    "    else :\n",
    "        preds.append(1)\n",
    "import cuml\n",
    "MAE = cuml.metrics.regression.mean_absolute_error(test_y,np.asarray(preds))\n",
    "print(MAE)"
   ]
  },
  {
   "cell_type": "code",
   "execution_count": 21,
   "id": "10540ba3",
   "metadata": {
    "execution": {
     "iopub.execute_input": "2022-03-17T06:54:04.874552Z",
     "iopub.status.busy": "2022-03-17T06:54:04.873623Z",
     "iopub.status.idle": "2022-03-17T06:54:09.202503Z",
     "shell.execute_reply": "2022-03-17T06:54:09.202029Z",
     "shell.execute_reply.started": "2022-03-17T06:51:17.951362Z"
    },
    "papermill": {
     "duration": 4.387352,
     "end_time": "2022-03-17T06:54:09.202632",
     "exception": false,
     "start_time": "2022-03-17T06:54:04.815280",
     "status": "completed"
    },
    "tags": []
   },
   "outputs": [
    {
     "name": "stdout",
     "output_type": "stream",
     "text": [
      "Epoch 1/2\n",
      "750/750 [==============================] - 2s 2ms/step - loss: 1.3346 - accuracy: 0.5700\n",
      "Epoch 2/2\n",
      "750/750 [==============================] - 2s 3ms/step - loss: 0.6777 - accuracy: 0.6164\n"
     ]
    }
   ],
   "source": [
    "opt = tf.keras.optimizers.Adam(learning_rate=0.001)\n",
    "ann = tf.keras.models.Sequential()\n",
    "ann.add(tf.keras.layers.Dense(units = 100,activation='relu'))\n",
    "ann.add(tf.keras.layers.Dropout(.4))\n",
    "ann.add(tf.keras.layers.Dense(units = 100,activation='relu'))\n",
    "ann.add(tf.keras.layers.Dropout(.4))\n",
    "ann.add(tf.keras.layers.Dense(units = 100,activation='relu'))\n",
    "ann.add(tf.keras.layers.Dropout(.4))\n",
    "ann.add(tf.keras.layers.Dense(units = 1,activation='sigmoid'))\n",
    "ann.compile(optimizer=opt,loss='binary_crossentropy',metrics=['accuracy'])\n",
    "history=ann.fit(train_x.astype(float),train_y.astype(float),batch_size=32,epochs=2)"
   ]
  },
  {
   "cell_type": "code",
   "execution_count": 22,
   "id": "c29d734e",
   "metadata": {
    "execution": {
     "iopub.execute_input": "2022-03-17T06:54:09.366521Z",
     "iopub.status.busy": "2022-03-17T06:54:09.358445Z",
     "iopub.status.idle": "2022-03-17T06:54:09.517264Z",
     "shell.execute_reply": "2022-03-17T06:54:09.516719Z",
     "shell.execute_reply.started": "2022-03-17T06:51:21.893832Z"
    },
    "papermill": {
     "duration": 0.241661,
     "end_time": "2022-03-17T06:54:09.517379",
     "exception": false,
     "start_time": "2022-03-17T06:54:09.275718",
     "status": "completed"
    },
    "tags": []
   },
   "outputs": [
    {
     "data": {
      "image/png": "[encoded data removed]",
      "text/plain": [
       "<Figure size 432x288 with 1 Axes>"
      ]
     },
     "metadata": {
      "needs_background": "light"
     },
     "output_type": "display_data"
    }
   ],
   "source": [
    "loss=history.history['loss']\n",
    "acc=history.history['accuracy']\n",
    "epochs=range(len(loss))\n",
    "import matplotlib.pyplot as plt\n",
    "plt.plot(epochs,loss)\n",
    "plt.plot(epochs,acc)\n",
    "plt.show()"
   ]
  },
  {
   "cell_type": "code",
   "execution_count": 23,
   "id": "45129323",
   "metadata": {
    "execution": {
     "iopub.execute_input": "2022-03-17T06:54:09.672110Z",
     "iopub.status.busy": "2022-03-17T06:54:09.671317Z",
     "iopub.status.idle": "2022-03-17T06:54:10.076286Z",
     "shell.execute_reply": "2022-03-17T06:54:10.076793Z",
     "shell.execute_reply.started": "2022-03-17T06:51:22.065113Z"
    },
    "papermill": {
     "duration": 0.486287,
     "end_time": "2022-03-17T06:54:10.076937",
     "exception": false,
     "start_time": "2022-03-17T06:54:09.590650",
     "status": "completed"
    },
    "tags": []
   },
   "outputs": [
    {
     "name": "stdout",
     "output_type": "stream",
     "text": [
      "0.37216666666666665\n"
     ]
    }
   ],
   "source": [
    "prob = ann.predict(test_x.astype(float))\n",
    "preds = []\n",
    "for prediction in prob :\n",
    "    if prediction<=0.5 :\n",
    "        preds.append(0)\n",
    "    else :\n",
    "        preds.append(1)\n",
    "import cuml\n",
    "MAE = cuml.metrics.regression.mean_absolute_error(test_y,np.asarray(preds))\n",
    "print(MAE)"
   ]
  },
  {
   "cell_type": "code",
   "execution_count": 24,
   "id": "6c906642",
   "metadata": {
    "execution": {
     "iopub.execute_input": "2022-03-17T06:54:10.239294Z",
     "iopub.status.busy": "2022-03-17T06:54:10.231562Z",
     "iopub.status.idle": "2022-03-17T06:54:10.241965Z",
     "shell.execute_reply": "2022-03-17T06:54:10.242395Z",
     "shell.execute_reply.started": "2022-03-17T06:51:22.343029Z"
    },
    "papermill": {
     "duration": 0.090971,
     "end_time": "2022-03-17T06:54:10.242526",
     "exception": false,
     "start_time": "2022-03-17T06:54:10.151555",
     "status": "completed"
    },
    "tags": []
   },
   "outputs": [
    {
     "data": {
      "text/html": [
       "<div>\n",
       "<style scoped>\n",
       "    .dataframe tbody tr th:only-of-type {\n",
       "        vertical-align: middle;\n",
       "    }\n",
       "\n",
       "    .dataframe tbody tr th {\n",
       "        vertical-align: top;\n",
       "    }\n",
       "\n",
       "    .dataframe thead th {\n",
       "        text-align: right;\n",
       "    }\n",
       "</style>\n",
       "<table border=\"1\" class=\"dataframe\">\n",
       "  <thead>\n",
       "    <tr style=\"text-align: right;\">\n",
       "      <th></th>\n",
       "      <th>home_team</th>\n",
       "      <th>away_team</th>\n",
       "      <th>neutral</th>\n",
       "      <th>home_adv</th>\n",
       "    </tr>\n",
       "  </thead>\n",
       "  <tbody>\n",
       "    <tr>\n",
       "      <th>0</th>\n",
       "      <td>177</td>\n",
       "      <td>88</td>\n",
       "      <td>0</td>\n",
       "      <td>1</td>\n",
       "    </tr>\n",
       "    <tr>\n",
       "      <th>1</th>\n",
       "      <td>70</td>\n",
       "      <td>112</td>\n",
       "      <td>0</td>\n",
       "      <td>1</td>\n",
       "    </tr>\n",
       "    <tr>\n",
       "      <th>2</th>\n",
       "      <td>41</td>\n",
       "      <td>14</td>\n",
       "      <td>1</td>\n",
       "      <td>0</td>\n",
       "    </tr>\n",
       "    <tr>\n",
       "      <th>3</th>\n",
       "      <td>145</td>\n",
       "      <td>200</td>\n",
       "      <td>1</td>\n",
       "      <td>0</td>\n",
       "    </tr>\n",
       "    <tr>\n",
       "      <th>4</th>\n",
       "      <td>191</td>\n",
       "      <td>115</td>\n",
       "      <td>1</td>\n",
       "      <td>0</td>\n",
       "    </tr>\n",
       "    <tr>\n",
       "      <th>...</th>\n",
       "      <td>...</td>\n",
       "      <td>...</td>\n",
       "      <td>...</td>\n",
       "      <td>...</td>\n",
       "    </tr>\n",
       "    <tr>\n",
       "      <th>2808</th>\n",
       "      <td>209</td>\n",
       "      <td>133</td>\n",
       "      <td>0</td>\n",
       "      <td>1</td>\n",
       "    </tr>\n",
       "    <tr>\n",
       "      <th>2809</th>\n",
       "      <td>126</td>\n",
       "      <td>153</td>\n",
       "      <td>0</td>\n",
       "      <td>1</td>\n",
       "    </tr>\n",
       "    <tr>\n",
       "      <th>2810</th>\n",
       "      <td>196</td>\n",
       "      <td>114</td>\n",
       "      <td>1</td>\n",
       "      <td>0</td>\n",
       "    </tr>\n",
       "    <tr>\n",
       "      <th>2811</th>\n",
       "      <td>41</td>\n",
       "      <td>79</td>\n",
       "      <td>0</td>\n",
       "      <td>1</td>\n",
       "    </tr>\n",
       "    <tr>\n",
       "      <th>2812</th>\n",
       "      <td>51</td>\n",
       "      <td>106</td>\n",
       "      <td>0</td>\n",
       "      <td>1</td>\n",
       "    </tr>\n",
       "  </tbody>\n",
       "</table>\n",
       "<p>2813 rows × 4 columns</p>\n",
       "</div>"
      ],
      "text/plain": [
       "     home_team away_team neutral home_adv\n",
       "0          177        88       0        1\n",
       "1           70       112       0        1\n",
       "2           41        14       1        0\n",
       "3          145       200       1        0\n",
       "4          191       115       1        0\n",
       "...        ...       ...     ...      ...\n",
       "2808       209       133       0        1\n",
       "2809       126       153       0        1\n",
       "2810       196       114       1        0\n",
       "2811        41        79       0        1\n",
       "2812        51       106       0        1\n",
       "\n",
       "[2813 rows x 4 columns]"
      ]
     },
     "execution_count": 24,
     "metadata": {},
     "output_type": "execute_result"
    }
   ],
   "source": [
    "df_test = df_test.drop(['id','home_disadv'],axis=1)\n",
    "df_test"
   ]
  },
  {
   "cell_type": "code",
   "execution_count": 25,
   "id": "c5f94bef",
   "metadata": {
    "execution": {
     "iopub.execute_input": "2022-03-17T06:54:10.407393Z",
     "iopub.status.busy": "2022-03-17T06:54:10.405885Z",
     "iopub.status.idle": "2022-03-17T06:54:11.946892Z",
     "shell.execute_reply": "2022-03-17T06:54:11.946047Z"
    },
    "papermill": {
     "duration": 1.630143,
     "end_time": "2022-03-17T06:54:11.947020",
     "exception": false,
     "start_time": "2022-03-17T06:54:10.316877",
     "status": "completed"
    },
    "tags": []
   },
   "outputs": [],
   "source": [
    "X = np.asarray(train_x.values, dtype=np.float32)\n",
    "y = np.asarray(train_y.values, dtype=np.float32)\n",
    "cuml_model = cuRFC(max_features=1.0,\n",
    "                   n_bins=128,\n",
    "                   n_estimators=200)\n",
    "cuml_model.fit(X,y)\n",
    "prob = cuml_model.predict(np.asarray(df_test.values, dtype=np.float32))\n",
    "preds = []\n",
    "for prediction in prob :\n",
    "    if prediction<=0.5 :\n",
    "        preds.append(0)\n",
    "    else :\n",
    "        preds.append(1)\n",
    "counter = 30000\n",
    "ids = []\n",
    "for i in range(len(preds)) :\n",
    "    ids.append(counter)\n",
    "    counter += 1\n",
    "final = pd.DataFrame(ids)\n",
    "final['id'] = ids\n",
    "final['Outcome'] = preds\n",
    "final = final.drop([0],axis=1)\n",
    "submission = final.to_csv('./submission.csv',index=False)"
   ]
  }
 ],
 "metadata": {
  "kernelspec": {
   "display_name": "Python 3",
   "language": "python",
   "name": "python3"
  },
  "language_info": {
   "codemirror_mode": {
    "name": "ipython",
    "version": 3
   },
   "file_extension": ".py",
   "mimetype": "text/x-python",
   "name": "python",
   "nbconvert_exporter": "python",
   "pygments_lexer": "ipython3",
   "version": "3.7.12"
  },
  "papermill": {
   "default_parameters": {},
   "duration": 74.443764,
   "end_time": "2022-03-17T06:54:14.749147",
   "environment_variables": {},
   "exception": null,
   "input_path": "__notebook__.ipynb",
   "output_path": "__notebook__.ipynb",
   "parameters": {},
   "start_time": "2022-03-17T06:53:00.305383",
   "version": "2.3.3"
  }
 },
 "nbformat": 4,
 "nbformat_minor": 5
}
